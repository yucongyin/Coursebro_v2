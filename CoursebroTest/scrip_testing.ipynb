{
 "cells": [
  {
   "cell_type": "markdown",
   "id": "1de6092d",
   "metadata": {},
   "source": [
    "# Script Testing"
   ]
  },
  {
   "cell_type": "code",
   "execution_count": 1,
   "id": "24641cd0",
   "metadata": {},
   "outputs": [],
   "source": [
    "from selenium import webdriver\n",
    "import time\n",
    "from selenium.common.exceptions import NoSuchElementException\n",
    "from selenium.webdriver.support.ui import Select\n",
    "from selenium.webdriver.support.ui import WebDriverWait\n",
    "from selenium.webdriver.support import expected_conditions as EC\n",
    "from selenium.webdriver.common.by import By\n",
    "from selenium.webdriver.chrome.options import Options\n",
    "\n",
    "import win32com.client as wincl\n",
    "# import os\n",
    "from threading import Timer\n",
    "import pandas as pd\n",
    "import sys\n",
    "import numpy as np\n",
    "# from threading import Thread\n",
    "import multiprocessing\n",
    "from multiprocessing import SimpleQueue\n",
    "import functools\n",
    "from joblib import Parallel, delayed\n",
    "\n",
    "echo = wincl.Dispatch(\"SAPI.SpVoice\")\n",
    "echo.rate = 4 #-1\n",
    "\n",
    "chrome_option = Options()\n",
    "chrome_option.add_argument('--headless')\n",
    "chrome_option.add_argument('--disable-gpu')\n",
    "chrome_option.add_argument('log-level = 3')\n",
    "chrome_option.add_argument('window-size=1920x1080')"
   ]
  },
  {
   "cell_type": "code",
   "execution_count": 2,
   "id": "3c7a854a",
   "metadata": {},
   "outputs": [
    {
     "name": "stderr",
     "output_type": "stream",
     "text": [
      "<ipython-input-2-0a7e86becdbf>:9: DeprecationWarning: use options instead of chrome_options\n",
      "  browser = webdriver.Chrome(executable_path=r\"C:/Users/Tom/Desktop/tcl/chromedriver\", chrome_options = chrome_option)\n"
     ]
    }
   ],
   "source": [
    "course_file = 'C:/Users/Tom/Desktop/tcl/test.csv'\n",
    "df = pd.read_csv(course_file, dtype = {'num_course': pd.Int64Dtype()})\n",
    "df = df.dropna(axis = 0, how = 'all').reset_index(drop=True)\n",
    "df = df.fillna(np.nan)\n",
    "df = df.drop_duplicates(subset = 'url', keep = 'first')\n",
    "\n",
    "url = df.iloc[0].url\n",
    "num_course = df.iloc[0].num_course\n",
    "browser = webdriver.Chrome(executable_path=r\"C:/Users/Tom/Desktop/tcl/chromedriver\", chrome_options = chrome_option)\n",
    "browser.get(url)\n",
    "browser.maximize_window()\n",
    "current_url_str = 'https://passportyork.yorku.ca/ppylogin/ppylogin'\n",
    "current_url = browser.current_url "
   ]
  },
  {
   "cell_type": "code",
   "execution_count": 3,
   "id": "eb3836d1",
   "metadata": {},
   "outputs": [],
   "source": [
    "if current_url == current_url_str:\n",
    "    name = browser.find_element_by_id(\"mli\")\n",
    "    name.send_keys(\"memorays\")\n",
    "    pwd = browser.find_element_by_id(\"password\")\n",
    "    pwd.send_keys(\"asd65656\")\n",
    "    element=WebDriverWait(browser,10).until(EC.element_to_be_clickable((By.NAME,\"dologin\")))\n",
    "    browser.execute_script(\"arguments[0].click();\", element)"
   ]
  },
  {
   "cell_type": "code",
   "execution_count": 4,
   "id": "1b5744f7",
   "metadata": {},
   "outputs": [
    {
     "data": {
      "text/plain": [
       "3"
      ]
     },
     "execution_count": 4,
     "metadata": {},
     "output_type": "execute_result"
    }
   ],
   "source": [
    "num_course"
   ]
  },
  {
   "cell_type": "code",
   "execution_count": 5,
   "id": "99349658",
   "metadata": {},
   "outputs": [
    {
     "data": {
      "text/plain": [
       "'HH-PSYC-4030-6.00-EN'"
      ]
     },
     "execution_count": 5,
     "metadata": {},
     "output_type": "execute_result"
    }
   ],
   "source": [
    "ava_list = []\n",
    "java_script = 'var items = {}; for (index = 0; index < arguments[0].attributes.length; ++index) { items[arguments[0].attributes[index].name] = arguments[0].attributes[index].value }; return items;'\n",
    "        \n",
    "#for idx_course in range(num_course): \n",
    "idx_course = 0\n",
    "course_xpath = \"//div[@class = 'courseDiv bc{} bd{}']\".format(idx_course + 1, idx_course + 1)\n",
    "requirement = WebDriverWait(browser, 60).until(\n",
    "    EC.presence_of_element_located((By.XPATH, course_xpath)))\n",
    "myElem = browser.find_element_by_xpath(course_xpath)\n",
    "check_box = myElem.find_element_by_xpath(\"div[@class = 'dropDownText']\").find_element_by_xpath(\"span[@class = 'class_checkboxes']\")\n",
    "labels = check_box.find_elements_by_css_selector(\"label\")\n",
    "course_name = myElem.text.split('\\n')[1].split(' ')[0]\n",
    "course_name"
   ]
  },
  {
   "cell_type": "code",
   "execution_count": 6,
   "id": "81ae2b54",
   "metadata": {},
   "outputs": [
    {
     "data": {
      "text/plain": [
       "'Keele  Select...   \\nHH-PSYC-4030-6.00-EN   \\nAll classes are full\\nHH-PSYC-4180-6.00-EN has no classes with open seats that do not conflict with this course\\nAll classes of this course conflict with all classes of HH-PSYC-4220-6.00-EN\\nBehaviour Modification and Behaviour Therapy\\nAll Terms (1)\\nTerm SU\\nAll Sections (1)\\nSection A\\n    Try all classes (1)\\n    \\n    Try specific classes...\\nSection A: Term SU: Semr 01 (Full)\\n    Classes:\\nTerm SU: Section A: Semr 01 (Full)  \\nDescription: An examination of theoretical issues, basic research and practical application in the area of behaviour change. Prerequisites: HH/PSYC 1010 6.00, with a minimum grade of C; HH/PSYC 2030 3.00; one of HH/PSYC 2021 3.00, HHPSYC 2020 6.00; HH/PSYC 2130 3.00;HH/PSYC 3140 3.00\\n\\n ...Show More '"
      ]
     },
     "execution_count": 6,
     "metadata": {},
     "output_type": "execute_result"
    }
   ],
   "source": [
    "myElem.text"
   ]
  },
  {
   "cell_type": "code",
   "execution_count": 8,
   "id": "02a4af82",
   "metadata": {},
   "outputs": [
    {
     "data": {
      "text/plain": [
       "'All classes are full'"
      ]
     },
     "execution_count": 8,
     "metadata": {},
     "output_type": "execute_result"
    }
   ],
   "source": [
    "myElem.text.split('\\n')[2]"
   ]
  },
  {
   "cell_type": "code",
   "execution_count": 8,
   "id": "f635a2e5",
   "metadata": {},
   "outputs": [
    {
     "data": {
      "text/plain": [
       "[<selenium.webdriver.remote.webelement.WebElement (session=\"74c5fab0c6c75c35e2ef86fd39758336\", element=\"8cec4423-3ae6-4bda-a9fe-0b12ccddf29a\")>]"
      ]
     },
     "execution_count": 8,
     "metadata": {},
     "output_type": "execute_result"
    }
   ],
   "source": [
    "labels"
   ]
  },
  {
   "cell_type": "code",
   "execution_count": 9,
   "id": "a9574f8b",
   "metadata": {},
   "outputs": [],
   "source": [
    "for i in range(len(labels)):\n",
    "    label = labels[i]\n",
    "    idx = browser.execute_script(java_script, label)['for']\n",
    "    input_val = label.find_element_by_xpath(\"//input[@id = '{}']\".format(idx))\n",
    "    attrs = browser.execute_script(java_script, input_val)"
   ]
  },
  {
   "cell_type": "code",
   "execution_count": 13,
   "id": "bc653a2b",
   "metadata": {},
   "outputs": [
    {
     "data": {
      "text/plain": [
       "{'checked': '',\n",
       " 'class': 'class_chk',\n",
       " 'data-cfsi': '0',\n",
       " 'id': '0-03711766299311692',\n",
       " 'type': 'checkbox'}"
      ]
     },
     "execution_count": 13,
     "metadata": {},
     "output_type": "execute_result"
    }
   ],
   "source": [
    "attrs"
   ]
  },
  {
   "cell_type": "code",
   "execution_count": 14,
   "id": "c423305a",
   "metadata": {},
   "outputs": [
    {
     "data": {
      "text/plain": [
       "'Term SU: Section A: Semr 01 (Full)  '"
      ]
     },
     "execution_count": 14,
     "metadata": {},
     "output_type": "execute_result"
    }
   ],
   "source": [
    "label.text"
   ]
  },
  {
   "cell_type": "code",
   "execution_count": 23,
   "id": "4417e711",
   "metadata": {},
   "outputs": [],
   "source": [
    "if 'checked' in attrs.keys():\n",
    "    course_details = label.text\n",
    "    if course_details:\n",
    "        if '(Full)' not in course_details:\n",
    "            full_course_name = course_name[3:12] + ' ' + course_details[5:7] + ' ' + course_details[16:18] + course_details[-5:-2]\n",
    "            remind_name = course_name[3:12]\n",
    "            echo.Speak(remind_name)\n",
    "            print(full_course_name)\n",
    "            ava_list.append(full_course_name)"
   ]
  },
  {
   "cell_type": "code",
   "execution_count": 24,
   "id": "264b40bb",
   "metadata": {},
   "outputs": [
    {
     "data": {
      "text/plain": [
       "'PSYC-4030 SU  All)'"
      ]
     },
     "execution_count": 24,
     "metadata": {},
     "output_type": "execute_result"
    }
   ],
   "source": [
    "full_course_name"
   ]
  },
  {
   "cell_type": "code",
   "execution_count": 25,
   "id": "079704a9",
   "metadata": {},
   "outputs": [
    {
     "data": {
      "text/plain": [
       "'Term SU: Section A: Semr 01 (Full)  '"
      ]
     },
     "execution_count": 25,
     "metadata": {},
     "output_type": "execute_result"
    }
   ],
   "source": [
    "course_details"
   ]
  },
  {
   "cell_type": "code",
   "execution_count": 26,
   "id": "24949132",
   "metadata": {},
   "outputs": [
    {
     "data": {
      "text/plain": [
       "'ll)'"
      ]
     },
     "execution_count": 26,
     "metadata": {},
     "output_type": "execute_result"
    }
   ],
   "source": [
    "course_details[-5:-2]"
   ]
  },
  {
   "cell_type": "code",
   "execution_count": 2,
   "id": "7076cbec",
   "metadata": {},
   "outputs": [
    {
     "data": {
      "text/plain": [
       "[]"
      ]
     },
     "execution_count": 2,
     "metadata": {},
     "output_type": "execute_result"
    }
   ],
   "source": [
    "import sqlite3\n",
    "import sys\n",
    "from os import getenv, path\n",
    "import os\n",
    "from Crypto.Cipher import AES\n",
    "from Crypto.Protocol.KDF import PBKDF2\n",
    "import keyring\n",
    "\n",
    "def get_cookies(url, cookiesfile):\n",
    "\n",
    "    def chrome_decrypt(encrypted_value, key=None):\n",
    "        dec = AES.new(key, AES.MODE_CBC, IV=iv).decrypt(encrypted_value[3:])\n",
    "        decrypted = dec[:-dec[-1]].decode('utf8')\n",
    "        return decrypted\n",
    "\n",
    "    cookies = []\n",
    "    if sys.platform == 'win32':\n",
    "        import win32crypt\n",
    "        conn = sqlite3.connect(cookiesfile)\n",
    "        cursor = conn.cursor()\n",
    "        cursor.execute(\n",
    "            'SELECT name, value, encrypted_value FROM cookies WHERE host_key == \"' + url + '\"')\n",
    "        for name, value, encrypted_value in cursor.fetchall():\n",
    "            if value or (encrypted_value[:3] == b'v10'):\n",
    "                cookies.append((name, value))\n",
    "            else:\n",
    "                decrypted_value = win32crypt.CryptUnprotectData(\n",
    "                    encrypted_value, None, None, None, 0)[1].decode('utf-8') or 'ERROR'\n",
    "                cookies.append((name, decrypted_value))\n",
    "\n",
    "    elif sys.platform == 'linux':\n",
    "        my_pass = 'peanuts'.encode('utf8')\n",
    "        iterations = 1\n",
    "        key = PBKDF2(my_pass, salt, length, iterations)\n",
    "        conn = sqlite3.connect(cookiesfile)\n",
    "        cursor = conn.cursor()\n",
    "        cursor.execute(\n",
    "            'SELECT name, value, encrypted_value FROM cookies WHERE host_key == \"' + url + '\"')\n",
    "        for name, value, encrypted_value in cursor.fetchall():\n",
    "            decrypted_tuple = (name, chrome_decrypt(encrypted_value, key=key))\n",
    "            cookies.append(decrypted_tuple)\n",
    "    else:\n",
    "        print('This tool is only supported by linux and Mac')\n",
    "\n",
    "    conn.close()\n",
    "    return cookies\n",
    "\n",
    "\n",
    "if __name__ == '__main__':\n",
    "    pass\n",
    "else:\n",
    "    salt = b'saltysalt'\n",
    "    iv = b' ' * 16\n",
    "    length = 16\n",
    "\n",
    "#get_cookies('YOUR URL FROM THE COOKIES', 'YOUR PATH TO THE \"/Default/Cookies\" DATA')\n",
    "url = 'https://wrem.sis.yorku.ca/Apps/WebObjects/REM.woa/wa/DirectAction/rem'\n",
    "path = 'C:/Users/Tom/AppData/Local/Google/Chrome/User Data/Default/Cookies'\n",
    "get_cookies(url, path)"
   ]
  },
  {
   "cell_type": "code",
   "execution_count": 3,
   "id": "f5c70264",
   "metadata": {},
   "outputs": [
    {
     "ename": "ModuleNotFoundError",
     "evalue": "No module named 'Crypto'",
     "output_type": "error",
     "traceback": [
      "\u001b[1;31m---------------------------------------------------------------------------\u001b[0m",
      "\u001b[1;31mModuleNotFoundError\u001b[0m                       Traceback (most recent call last)",
      "\u001b[1;32m<ipython-input-3-edfb76a95ff7>\u001b[0m in \u001b[0;36m<module>\u001b[1;34m\u001b[0m\n\u001b[1;32m----> 1\u001b[1;33m \u001b[1;32mimport\u001b[0m \u001b[0mbrowser_cookie3\u001b[0m\u001b[1;33m\u001b[0m\u001b[1;33m\u001b[0m\u001b[0m\n\u001b[0m\u001b[0;32m      2\u001b[0m \u001b[0mcookies\u001b[0m \u001b[1;33m=\u001b[0m \u001b[0mbrowser_cookie3\u001b[0m\u001b[1;33m.\u001b[0m\u001b[0mchrome\u001b[0m\u001b[1;33m(\u001b[0m\u001b[0mdomain_name\u001b[0m\u001b[1;33m=\u001b[0m\u001b[1;34m'.google.com'\u001b[0m\u001b[1;33m)\u001b[0m\u001b[1;33m\u001b[0m\u001b[1;33m\u001b[0m\u001b[0m\n\u001b[0;32m      3\u001b[0m \u001b[0mresponse\u001b[0m \u001b[1;33m=\u001b[0m \u001b[0mrequests\u001b[0m\u001b[1;33m.\u001b[0m\u001b[0mget\u001b[0m\u001b[1;33m(\u001b[0m\u001b[1;34m'http://www.google.com'\u001b[0m\u001b[1;33m,\u001b[0m \u001b[0mverify\u001b[0m\u001b[1;33m=\u001b[0m\u001b[1;32mFalse\u001b[0m\u001b[1;33m,\u001b[0m \u001b[0mheaders\u001b[0m\u001b[1;33m=\u001b[0m\u001b[0mheaders\u001b[0m\u001b[1;33m,\u001b[0m \u001b[0mcookies\u001b[0m\u001b[1;33m=\u001b[0m\u001b[0mcookies\u001b[0m\u001b[1;33m,\u001b[0m \u001b[0mtimeout\u001b[0m\u001b[1;33m=\u001b[0m\u001b[1;36m3\u001b[0m\u001b[1;33m)\u001b[0m\u001b[1;33m\u001b[0m\u001b[1;33m\u001b[0m\u001b[0m\n",
      "\u001b[1;32mc:\\users\\tom\\appdata\\local\\programs\\python\\python38-32\\lib\\site-packages\\browser_cookie3\\__init__.py\u001b[0m in \u001b[0;36m<module>\u001b[1;34m\u001b[0m\n\u001b[0;32m     12\u001b[0m \u001b[1;32mimport\u001b[0m \u001b[0mconfigparser\u001b[0m\u001b[1;33m\u001b[0m\u001b[1;33m\u001b[0m\u001b[0m\n\u001b[0;32m     13\u001b[0m \u001b[1;32mimport\u001b[0m \u001b[0mbase64\u001b[0m\u001b[1;33m\u001b[0m\u001b[1;33m\u001b[0m\u001b[0m\n\u001b[1;32m---> 14\u001b[1;33m \u001b[1;32mfrom\u001b[0m \u001b[0mCrypto\u001b[0m\u001b[1;33m.\u001b[0m\u001b[0mCipher\u001b[0m \u001b[1;32mimport\u001b[0m \u001b[0mAES\u001b[0m\u001b[1;33m\u001b[0m\u001b[1;33m\u001b[0m\u001b[0m\n\u001b[0m\u001b[0;32m     15\u001b[0m \u001b[1;32mfrom\u001b[0m \u001b[0mtyping\u001b[0m \u001b[1;32mimport\u001b[0m \u001b[0mUnion\u001b[0m\u001b[1;33m\u001b[0m\u001b[1;33m\u001b[0m\u001b[0m\n\u001b[0;32m     16\u001b[0m \u001b[1;33m\u001b[0m\u001b[0m\n",
      "\u001b[1;31mModuleNotFoundError\u001b[0m: No module named 'Crypto'"
     ]
    }
   ],
   "source": [
    "import browser_cookie3\n",
    "cookies = browser_cookie3.chrome(domain_name='.google.com')\n",
    "response = requests.get('http://www.google.com', verify=False, headers=headers, cookies=cookies, timeout=3)"
   ]
  },
  {
   "cell_type": "code",
   "execution_count": null,
   "id": "9544a5b4",
   "metadata": {},
   "outputs": [],
   "source": []
  }
 ],
 "metadata": {
  "kernelspec": {
   "display_name": "Python 3",
   "language": "python",
   "name": "python3"
  },
  "language_info": {
   "codemirror_mode": {
    "name": "ipython",
    "version": 3
   },
   "file_extension": ".py",
   "mimetype": "text/x-python",
   "name": "python",
   "nbconvert_exporter": "python",
   "pygments_lexer": "ipython3",
   "version": "3.8.3"
  }
 },
 "nbformat": 4,
 "nbformat_minor": 5
}
